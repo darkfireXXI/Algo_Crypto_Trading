{
 "cells": [
  {
   "cell_type": "markdown",
   "metadata": {},
   "source": [
    "# BNB_getBalances\n",
    "As I do the majority of my trading on Binance a goal of mine has been to get to a point where I never have to manually log into Binance to check or change anything. This includes logging in to see my account balance. While all the live execution codes log their performance in text files and send email updates, checking these can be cumbersome. Not to mention as the number of strategies running in parallel increases, it is more important to focus on the overall return of the portfolio rather than the individual codes.\n",
    " \n",
    "Thus I wrote a simple script to go through all Binance coins/tokens and return all non-zero values in both BTC and USD denominations. The account totals are also printed so that at any given time one can find the total portfolio value and individual holdings and allocations.\n",
    "\n",
    "An example output is shown below:"
   ]
  },
  {
   "cell_type": "code",
   "execution_count": 1,
   "metadata": {},
   "outputs": [
    {
     "name": "stdout",
     "output_type": "stream",
     "text": [
      "All Balances\n",
      "  Asset      Amount   Locked     BTC Eqv.    $ Eqv.\n",
      "0   BTC  0.07105488  0.00175    0.0728049   276.864\n",
      "1   LTC     0.00457      0.0  5.71296e-05  0.217253\n",
      "2   BNB  0.54638334      0.0   0.00164959   6.27308\n",
      "3   ETC       13.97      0.0    0.0153949   58.5442\n",
      "4  DASH    1.093995      0.0      0.02351   89.4041\n",
      "5   XMR    1.243971      0.0     0.015638   59.4683\n",
      "6   XRP       325.0      0.0    0.0266077   101.184\n",
      "\n",
      "Total BTC: 0.15566\n",
      "Total $: 591.96\n",
      "\n"
     ]
    }
   ],
   "source": [
    "from numpy import vstack\n",
    "from pandas import DataFrame\n",
    "from binance.client import Client\n",
    "client = Client('API','KEY')\n",
    "\n",
    "Balances = ['Asset', 'Amount', 'Locked', 'BTC Eqv.', '$ Eqv.']\n",
    "info = client.get_account()\n",
    "# print(info['balances'])\n",
    "# print(len(info['balances']))\n",
    "for i in range(0, len(info['balances'])):\n",
    "    if(info['balances'][i]['free'] != '0.00000000' or info['balances'][i]['locked'] != '0.00000000'):\n",
    "        Balances = vstack((Balances, [info['balances'][i]['asset'], float(info['balances'][i]['free']), float(info['balances'][i]['locked']), 0, 0]))\n",
    "\n",
    "Balances = DataFrame(Balances[1:, :], columns=Balances[0, :])\n",
    "# print(Balances)\n",
    "\n",
    "for i in range(0, len(Balances)):\n",
    "    if(Balances.loc[i, 'Asset'] == 'BTC'):\n",
    "        Balances.loc[i, 'BTC Eqv.'] = float(Balances.loc[i, 'Amount']) + float(Balances.loc[i, 'Locked'])\n",
    "    else:\n",
    "        last = float(client.get_ticker(symbol=Balances.loc[i, 'Asset']+'BTC')['lastPrice'])\n",
    "        Balances.loc[i, 'BTC Eqv.'] = (float(Balances.loc[i, 'Amount']) + float(Balances.loc[i, 'Locked']))*last\n",
    "\n",
    "# print(Balances)\n",
    "last = float(client.get_ticker(symbol='BTCPAX')['lastPrice'])\n",
    "\n",
    "Balances['$ Eqv.'] = Balances['BTC Eqv.']*last\n",
    "# print(last)\n",
    "btc_balance = round(sum(Balances['BTC Eqv.']), 5)\n",
    "usd_balance = round(sum(Balances['$ Eqv.']), 2)\n",
    "print('All Balances\\n{}\\n'.format(Balances))\n",
    "print('Total BTC: {}\\nTotal $: {}\\n'.format(btc_balance, usd_balance))\n"
   ]
  }
 ],
 "metadata": {
  "kernelspec": {
   "display_name": "Python 3",
   "language": "python",
   "name": "python3"
  },
  "language_info": {
   "codemirror_mode": {
    "name": "ipython",
    "version": 3
   },
   "file_extension": ".py",
   "mimetype": "text/x-python",
   "name": "python",
   "nbconvert_exporter": "python",
   "pygments_lexer": "ipython3",
   "version": "3.6.7"
  }
 },
 "nbformat": 4,
 "nbformat_minor": 2
}
