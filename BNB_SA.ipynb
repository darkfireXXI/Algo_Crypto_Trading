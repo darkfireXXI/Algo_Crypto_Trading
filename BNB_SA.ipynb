{
 "cells": [
  {
   "cell_type": "markdown",
   "metadata": {},
   "source": [
    "# Binance Live Trading Code\n",
    "This is an incredibly simple, yet theoretically effective live code for trading a given cryptocurrency pair. The purpose of this code is to illustrate the work that goes into developing an effective and highly robust live code. The actually trading logic is one line of code, however the entire file is more than much longer due to the additional features which support live trading.\n",
    "\n",
    "## Strategy and Pitfal\n",
    "if(spread >= cost of trading): trade  \n",
    "The strategy is aptly named Spread Abuser. It is a HFT code even when run at slow time steps (eg. 1, 2, 5 min). If you backtest this strategy it will often give *theoretical* returns over 100% on many currency pairs.  \n",
    "\n",
    "The major pitfal of this strategy (and if there wasn't one I wouldn't post the code) is that it fails to move volume effectively. Most orders it puts out will not fulfill and the ones that do are usually the losing trades (margins are tight here). Cryptocurrency markets are relatively illiquid compared to tradition stock markets and there may come a day when that is not the case, however more liquidity most likely will come with smaller spreads which make this strategy more ineffective."
   ]
  },
  {
   "cell_type": "markdown",
   "metadata": {},
   "source": [
    "### Imports\n",
    "All the imports and fetching the date"
   ]
  },
  {
   "cell_type": "code",
   "execution_count": 1,
   "metadata": {},
   "outputs": [],
   "source": [
    "import json\n",
    "import os\n",
    "import time\n",
    "import numpy as np\n",
    "import pandas as pd\n",
    "import statistics as st\n",
    "import datetime\n",
    "import smtplib\n",
    "from email.mime.text import MIMEText\n",
    "import traceback\n",
    "from binance.client import Client\n",
    "\n",
    "np.set_printoptions(threshold=np.nan)\n",
    "\n",
    "now = datetime.datetime.now()\n",
    "year = now.year\n",
    "if(now.month < 10):\n",
    "    month = '0' + str(now.month)\n",
    "else:\n",
    "    month = now.month\n",
    "if(now.day < 10):\n",
    "    day = '0' + str(now.day)\n",
    "else:\n",
    "    day = now.day"
   ]
  },
  {
   "cell_type": "markdown",
   "metadata": {},
   "source": [
    "### Settings\n",
    "Here we define all the parameters necessary. It is the only part of the code that is actively edited before uploading to AWS."
   ]
  },
  {
   "cell_type": "code",
   "execution_count": 2,
   "metadata": {},
   "outputs": [],
   "source": [
    "# Settings ---------- Settings ---------- Settings ---------- Settings ---------- Settings ----------\n",
    "\n",
    "client = Client('put your API','keys here') # there are more secure options than pasting them here directly\n",
    "\n",
    "baseCurrency = 'ABC' # currency you want to make a return on (for most people will be USD or USDT)\n",
    "baseCurrency_lower = baseCurrency.lower()\n",
    "\n",
    "FXcurrency = 'XYZ' # currency/asset you want to game\n",
    "FXcurrency_lower = FXcurrency.lower()\n",
    "\n",
    "currencyPair = FXcurrency + baseCurrency\n",
    "\n",
    "USD_conversion = 1000 # value of ABC in USD\n",
    "\n",
    "spreadFactor = 1/7 # the strategy uses this constant to price bids/asks effectively (tested imperically, real value is NOT 1/7)\n",
    "\n",
    "commission = 0.075 # current commission rate on Binance (would recommend using a higher value for a safety margin)\n",
    "\n",
    "flag = 'Buy' # assumes you start with coin ABC and are looking to use them to buy XYZ\n",
    "\n",
    "Balance = 25 # balance in terms of FX currency you want to buy/sell\n",
    "originalBalance = Balance\n",
    "\n",
    "compounded = 0 # a big advantage of HFT is near continuous compounding, this always is initalized to 0\n",
    "\n",
    "total_trades = 0\n",
    "\n",
    "losing_trades = 0\n",
    "\n",
    "strikes = 0\n",
    "\n",
    "termination = 0\n",
    "\n",
    "interval = 150 # 150 seconds = 2.5 minutes between data points\n",
    "\n",
    "spacing = 2 # to avoid trading anomaly signals we take two data points 2 seconds apart and average their values\n",
    "\n",
    "delay = 0.5 # time it takes to go through one trading loop\n",
    "\n",
    "recordFile = '/path/data_{}-{}_{}_{}_{}.txt'.format(baseCurrency_lower, FXcurrency_lower, year, month, day) # in this file we will record everything that happens during runtime, the file name will format to include the currency pair and date started\n",
    "\n",
    "instructionsFile = '/path/instructions.txt' # this is a file which provides instructions to the live code to stop running or change parameters\n",
    "\n",
    "myFile = open(recordFile, 'w') # write the recordFile\n",
    "\n",
    "recipients = ['you@cryptoTrading.com'] # add the recipients of the email updates\n",
    "\n",
    "market_info = client.get_exchange_info() # each currency pair has differnt limits in regards to decimal precision of prices and quantities\n",
    "\n",
    "for i in range(0, len(market_info['symbols'])): # this loop quickly finds the coin pair's decimal precision\n",
    "    checkPair = market_info['symbols'][i]['symbol']\n",
    "    if(checkPair == currencyPair):\n",
    "        BalanceRound = float(market_info['symbols'][i]['filters'][1]['stepSize'])\n",
    "        priceRound = float(market_info['symbols'][i]['filters'][0]['tickSize'])\n",
    "        BalanceRound = int(abs(np.log10((BalanceRound))))\n",
    "        priceRound = int(abs(np.log10((priceRound))))\n",
    "\n",
    "if(('BalanceRound' not in locals()) or ('priceRound' not in locals())):\n",
    "    print('There\\'s a problem finding the tick/step Sizes') # just in case it doesn't find it (never has happened)\n",
    "else:\n",
    "    del market_info # clear memorory of large variable we will not use again"
   ]
  },
  {
   "cell_type": "markdown",
   "metadata": {},
   "source": [
    "### Functions\n",
    "Here we define all the functions used. There is a function for every REST API call and they are all formatted the same way. I will be the first to admit that the nested Try/Excepts are sloppy and could be done better with a while loop. However, this method allows us to keep track of failed API calls without defining a counter and if statement via the direct prints. When this project was first started it was important for us to keep track of API call success, but now that our error rate is < 0.0112% I have no excuse to not rewrite it nicely."
   ]
  },
  {
   "cell_type": "markdown",
   "metadata": {},
   "source": [
    "#### API Methods\n",
    "Some will be quick to note that I use Binance direct API. Yes I know I could use [ccxt](https://github.com/ccxt/ccxt), I just didn't know about it when I first wrote these codes and retrofitting is low on my to do list - \"don't fix it if it ain't broke\". In my notebook about data collecting I also address WebSockets vs REST API."
   ]
  },
  {
   "cell_type": "code",
   "execution_count": 3,
   "metadata": {},
   "outputs": [],
   "source": [
    "def PriceVerify(info, currencyPair):\n",
    "    try:\n",
    "        try:\n",
    "            try:\n",
    "                Ticker = client.get_ticker(symbol = currencyPair)\n",
    "                Bid0 = float(Ticker['bidPrice'])\n",
    "                Last0 = float(Ticker['lastPrice'])\n",
    "                Ask0 = float(Ticker['askPrice'])\n",
    "                info0 = [Bid0, Last0, Ask0]\n",
    "            except:\n",
    "                print('GetTicker Fail 1')\n",
    "                Ticker = client.get_ticker(symbol = currencyPair)\n",
    "                Bid0 = float(Ticker['bidPrice'])\n",
    "                Last0 = float(Ticker['lastPrice'])\n",
    "                Ask0 = float(Ticker['askPrice'])\n",
    "                info0 = [Bid0, Last0, Ask0]\n",
    "        except:\n",
    "            print('GetTicker Fail 2')\n",
    "            Ticker = client.get_ticker(symbol = currencyPair)\n",
    "            Bid0 = float(Ticker['bidPrice'])\n",
    "            Last0 = float(Ticker['lastPrice'])\n",
    "            Ask0 = float(Ticker['askPrice'])\n",
    "            info0 = [Bid0, Last0, Ask0]\n",
    "    except:\n",
    "        print('GetTicker Fail 3')\n",
    "        info0 = info # this is the function/API call used the most so as a last resort we pass the previous data points\n",
    "    return info0"
   ]
  },
  {
   "cell_type": "code",
   "execution_count": 4,
   "metadata": {},
   "outputs": [],
   "source": [
    "def BuyOrderVerify(Balance, buyPrice, BalanceRound, priceRound, currencyPair):\n",
    "    Balance = round(Balance, BalanceRound)\n",
    "    buyPrice = round(buyPrice, priceRound)\n",
    "    if(priceRound == 8):\n",
    "        buyPrice = format(buyPrice, '.8f') # I've had issues using scientific notation with Binance\n",
    "    try:\n",
    "        try:\n",
    "            try:\n",
    "                orderID = client.order_limit_buy(symbol=currencyPair, quantity=Balance, price=buyPrice)['orderId']\n",
    "            except:\n",
    "                traceback.print_exc()\t\n",
    "                time.sleep(1)\n",
    "                print('First BuyOrder did not go through and a second one was issued')\n",
    "                orderID = client.order_limit_buy(symbol=currencyPair, quantity=Balance, price=buyPrice)['orderId']\n",
    "        except:\n",
    "            traceback.print_exc()\n",
    "            time.sleep(1)\n",
    "            print('Second BuyOrder did not go through and a third one was issued')\n",
    "            orderID = client.order_limit_buy(symbol=currencyPair, quantity=Balance, price=buyPrice)['orderId']\n",
    "    except:\n",
    "        traceback.print_exc()\n",
    "        time.sleep(1)\n",
    "        buyPrice = float(buyPrice)\n",
    "        BuyOrderVerify(Balance, buyPrice, BalanceRound, priceRound, currencyPair) # all other functions like this are recursive\n",
    "    return orderID"
   ]
  },
  {
   "cell_type": "code",
   "execution_count": 5,
   "metadata": {},
   "outputs": [],
   "source": [
    "def SellOrderVerify(Balance, sellPrice, BalanceRound, priceRound, currencyPair): \n",
    "    Balance = round(Balance, BalanceRound)\n",
    "    sellPrice = round(sellPrice, priceRound)\n",
    "    if(priceRound == 8):\n",
    "        sellPrice = format(sellPrice, '.8f')\n",
    "    try:\n",
    "        try:\n",
    "            try:\n",
    "                orderID = client.order_limit_sell(symbol=currencyPair, quantity=Balance, price=sellPrice)['orderId']\n",
    "            except:\n",
    "                traceback.print_exc()\n",
    "                time.sleep(1)\n",
    "                print('First SellOrder did not go through and a second one was issued')\n",
    "                orderID = client.order_limit_sell(symbol=currencyPair, quantity=Balance, price=sellPrice)['orderId']\n",
    "        except:\n",
    "            traceback.print_exc()\n",
    "            time.sleep(1)\n",
    "            print('Second SellOrder did not go through and a third one was issued')\n",
    "            orderID = client.order_limit_sell(symbol=currencyPair, quantity=Balance, price=sellPrice)['orderId']\n",
    "    except:\n",
    "        traceback.print_exc()\n",
    "        time.sleep(1)\n",
    "        sellPrice = float(sellPrice)\n",
    "        SellOrderVerify(Balance, sellPrice, BalanceRound, priceRound, currencyPair)\n",
    "    return orderID "
   ]
  },
  {
   "cell_type": "code",
   "execution_count": 6,
   "metadata": {},
   "outputs": [],
   "source": [
    "def GetOrderStatusVerify(transID, currencyPair): \n",
    "    try:\n",
    "        try:\n",
    "            try:\n",
    "                status = client.get_order(symbol=currencyPair, orderId=transID)['status']\n",
    "            except:\n",
    "                print('First GetOrderStatus did not go through and a second one was issued')\n",
    "                status = client.get_order(symbol=currencyPair, orderId=transID)['status']\n",
    "        except:\n",
    "            print('Second GetOrderStatus did not go through and a third one was issued')\n",
    "            status = client.get_order(symbol=currencyPair, orderId=transID)['status']\n",
    "    except:\n",
    "        GetOrderStatusVerify(transID, currencyPair)\n",
    "    return status "
   ]
  },
  {
   "cell_type": "code",
   "execution_count": 7,
   "metadata": {},
   "outputs": [],
   "source": [
    "def GetOrderExecutedVerify(transID, currencyPair): # this function replaced GetBalaceVerify because it allows us to have two strategies trading the same currency pair simultaneously\n",
    "    try:\n",
    "        try:\n",
    "            try:\n",
    "                executedQty = client.get_order(symbol=currencyPair, orderId=transID)['executedQty']\n",
    "            except:\n",
    "                executedQty = client.get_order(symbol=currencyPair, orderId=transID)['executedQty']\n",
    "                print('First GetOrderExecuted did not go through and a second one was issued')\n",
    "        except:\n",
    "            executedQty = client.get_order(symbol=currencyPair, orderId=transID)['executedQty']\n",
    "            print('Second GetOrderExecuted did not go through and a third one was issued')\n",
    "    except:\n",
    "        GetOrderExecutedVerify(transID, currencyPair)\n",
    "    return float(executedQty)"
   ]
  },
  {
   "cell_type": "code",
   "execution_count": 8,
   "metadata": {},
   "outputs": [],
   "source": [
    "def CancelVerify(transID, currencyPair):\n",
    "    try:\n",
    "        try:\n",
    "            try:\n",
    "                cancel = client.cancel_order(symbol=currencyPair, orderId=transID)\n",
    "            except:\n",
    "                print('First cancel did not go through and a second one was issued')\n",
    "                cancel = client.cancel_order(symbol=currencyPair, orderId=transID)\n",
    "        except:\n",
    "            print('Second cancel did not go through and a third one was issued')\n",
    "            cancel = client.cancel_order(symbol=currencyPair, orderId=transID)\n",
    "    except:\n",
    "        CancelVerify(transID, currencyPair)\n",
    "    return cancel"
   ]
  },
  {
   "cell_type": "code",
   "execution_count": 9,
   "metadata": {},
   "outputs": [],
   "source": [
    "def GetBalanceVerify(FXcurrency): # we don't use this function anymore, but keep it around in case\n",
    "    try:\n",
    "        try:\n",
    "            try:\n",
    "                quantity = client.get_asset_balance(asset=FXcurrency)['free']\n",
    "            except:\n",
    "                print('First GetBalance did not go through and a second one was issued')\n",
    "                quantity = client.get_asset_balance(asset=FXcurrency)['free']\n",
    "        except:\n",
    "            print('Second GetBalance did not go through and a third one was issued')\n",
    "            quantity = client.get_asset_balance(asset=FXcurrency)['free']\n",
    "    except:\n",
    "        GetBalanceVerify(FXcurrency)\n",
    "    return float(quantity)"
   ]
  },
  {
   "cell_type": "code",
   "execution_count": 10,
   "metadata": {},
   "outputs": [],
   "source": [
    "def USD_PriceVerify(Last, baseCurrency): # convert return in your base currency to USD\n",
    "    if(baseCurrency != 'USDT'):\n",
    "        USD_pair = baseCurrency + 'USDT'\n",
    "        try:\n",
    "            try:\n",
    "                try:\n",
    "                    Ticker = client.get_ticker(symbol=USD_pair)\n",
    "                    Last0 = Ticker['lastPrice']\t\n",
    "                except:\n",
    "                    Ticker = client.get_ticker(symbol=USD_pair)\n",
    "                    Last0 = Ticker['lastPrice']\n",
    "                    print('GetTicker Fail 1')\n",
    "            except:\n",
    "                Ticker = client.get_ticker(symbol=USD_pair)\n",
    "                Last0 = Ticker['lastPrice']\n",
    "                print('GetTicker Fail 2')\n",
    "        except:\n",
    "            Last0 = Last\n",
    "            print('GetTicker Fail 3')\n",
    "        return float(Last0)\n",
    "    else:\n",
    "        return 1 # if your base currency is USD your conversion rate is 1"
   ]
  },
  {
   "cell_type": "code",
   "execution_count": 11,
   "metadata": {},
   "outputs": [],
   "source": [
    "def EmailUpdate(recipients, msg): # function to send email updates about performance\n",
    "    server = smtplib.SMTP('smtp.server.com', 465) # this will vary, find server/port for your email host\n",
    "    server.ehlo()\n",
    "    server.starttls()\n",
    "    server.login('you@cryptoTrading.com', 'password') # once again only put your password here if you want to get hacked\n",
    "\n",
    "    server.sendmail('you@cryptoTrading.com', recipients, msg.as_string())\n",
    "    server.quit()"
   ]
  },
  {
   "cell_type": "markdown",
   "metadata": {},
   "source": [
    "### Start-Up\n",
    "Since this strategy only evaluates one data point at a time the startup is just grabbing one data point. All the live tradin in in a while loop within a try statement. This is because at the end there is an except to notify us by email if an error occurs, what it is, our current P/L is, and if our position if Buy (assets in base currency) or Sell (assets in FX currency)."
   ]
  },
  {
   "cell_type": "code",
   "execution_count": 12,
   "metadata": {},
   "outputs": [],
   "source": [
    "try:\n",
    "    # Start-Up ---------- Start-Up ---------- Start-Up ---------- Start-Up ---------- Start-Up ----------\n",
    "    timer = 1\n",
    "\n",
    "    Ticker = client.get_ticker(symbol = currencyPair) # the only naked API call, if it doesn't error here it probably never will\n",
    "    Bid = Ticker['bidPrice']\n",
    "    Last = Ticker['lastPrice']\n",
    "    Ask = Ticker['askPrice']\n",
    "    info = [Bid, Last, Ask]\n"
   ]
  },
  {
   "cell_type": "markdown",
   "metadata": {},
   "source": [
    "### Alternative Start-Up\n",
    "In other codes that need to see a large sample of data at once to make a decision one can start the code and let it collect data until it has a sufficient number of data points. Eg. if you need 50 data points at a 4 minute interval this means you have a 2 hour 40 minute wait before the code begins trading. The more effective method is to pull the number of data points from our CSV of recorded data and then begin trading immediately.  \n",
    "\n",
    "length_needed would be the number of most recent data points to pull. Without proper time syncronization it is likely that the first data point collected in this code is then not exactly 4 minutes after the most recent data point pulled from the CSV. The smaller the time step the more insignificant this error becomes or you could just timestamp your data and make the live code synchonize. Either way after collecting the first 50 data points (or however many you need) all the data in the live code will be collected by itself."
   ]
  },
  {
   "cell_type": "code",
   "execution_count": 13,
   "metadata": {},
   "outputs": [],
   "source": [
    "    Ticker = client.get_ticker(symbol=currencyPair)\n",
    "    Bid = Ticker['bidPrice']\n",
    "    Last = Ticker['lastPrice']\n",
    "    Ask = Ticker['askPrice']\n",
    "\n",
    "    grabinfo_data = pd.read_csv(grabinfoFile, header=1) # grabinfoFile would then be defined in the Settings\n",
    "\n",
    "    bids = grabinfo_data['bidPrice']\n",
    "    lasts = grabinfo_data['lastPrice']\n",
    "    asks = grabinfo_data['askPrice']\n",
    "\n",
    "    bids = bids[len(bids) - int(lenth_needed):len(bids)]\n",
    "    lasts = lasts[len(lasts) - int(lenth_needed):len(lasts)]\n",
    "    asks = asks[len(asks) - int(lenth_needed):len(asks)]\n",
    "\n",
    "    allPrices = [asks, lasts, bids]\n",
    "    allPrices = np.array(allPrices)\n",
    "\n",
    "    del bids, lasts, asks, grabinfo_data # clear memory of variables we no longer need"
   ]
  },
  {
   "cell_type": "markdown",
   "metadata": {},
   "source": [
    "### Trading\n",
    "This is best part! The last line in the section below is the single line of logic begind this entire strategy, everything else is just support!"
   ]
  },
  {
   "cell_type": "code",
   "execution_count": 14,
   "metadata": {},
   "outputs": [],
   "source": [
    "# Trading ---------- Trading ---------- Trading ---------- Trading ---------- Trading ----------\n",
    "\n",
    "    transactionList = []\n",
    "    commissionList = []\n",
    "    append = True # this will be explained below\n",
    "\n",
    "    while True:\n",
    "        info1 = PriceVerify(info, currencyPair) # get data points 1\n",
    "\n",
    "        time.sleep(spacing) # hold a second (or two)\n",
    "\n",
    "        info2 = PriceVerify(info, currencyPair) # get data points 2\n",
    "        Bid2, Last2, Ask2 = info2[0], info2[1], info2[2] # only use the second ones for pricing\n",
    "\n",
    "        info = np.zeros(3)\n",
    "        for i in range(0, 3):\n",
    "            info[i] = np.mean([info1[i], info2[i]]) # define the average to use for calculations\n",
    "\n",
    "        Bid, Last, Ask = info[0], info[1], info[2]\n",
    "\n",
    "        margin = Ask/(1 + commission/100) - Bid*(1 + commission/100) # margin is spread - cost of trading"
   ]
  },
  {
   "cell_type": "markdown",
   "metadata": {},
   "source": [
    "### Buying\n",
    "Here is the if statement for buying. It's not that complicated... except in the case that your order doesn't go through. Try to appreciate how little of it is actually trading versus keeping track of ordeers, volume moved, recording all of this, etc."
   ]
  },
  {
   "cell_type": "code",
   "execution_count": 15,
   "metadata": {},
   "outputs": [],
   "source": [
    "        if((margin >= 0) and (flag == 'Buy' or flag == 'cancelBuy')):\n",
    "\n",
    "            myFile = open(recordFile, 'a')\n",
    "            with myFile:\n",
    "                myFile.write('Buying {}\\n'.format(FXcurrency))\n",
    "            print('Buying {}'.format(FXcurrency))\n",
    "\n",
    "            Balance += compounded\n",
    "            if(Balance >= originalBalance*2): # in the case we do 100% it might become tought to move volume, so we reset the balance\n",
    "                Balance = originalBalance\n",
    "                myFile = open(recordFile, 'a')\n",
    "                with myFile:\n",
    "                    myFile.write('The code has reached a 100% return, so the balance has been reset\\n')\n",
    "                print('The code has reached a 100% return, so the balance has been reset') # never seen this print, but I like to be ambitious\n",
    "\n",
    "            buyPrice = Bid2 + spreadFactor*(Ask2 - Bid2)\n",
    "            if(append == True):\n",
    "                transactionList.append(-buyPrice)\n",
    "                commissionList.append(1 + commission/100)\n",
    "            else:\n",
    "                transactionList.pop()\n",
    "                transactionList.append(-buyPrice)\n",
    "\n",
    "            transID = BuyOrderVerify(Balance, buyPrice, BalanceRound, priceRound, currencyPair) # in a perfect world this would be the only line you need\n",
    "\n",
    "            myFile = open(recordFile, 'a') # record the data in the terminal and in the recordFile\n",
    "            with myFile:\n",
    "                myFile.write('Quantity @ Price\\n')\n",
    "                myFile.write('{} @ {}\\n'.format(Balance, buyPrice))\n",
    "            print('Quantity @ Price')\n",
    "            print('{} @ {}'.format(Balance, buyPrice))"
   ]
  },
  {
   "cell_type": "markdown",
   "metadata": {},
   "source": [
    "#### Cancelling a Buy Order - HFT\n",
    "Read the comments in the code to follow the logic. This would be the buy cancel loop for this specific code, but in the next section we will look at an alternative one. "
   ]
  },
  {
   "cell_type": "code",
   "execution_count": 16,
   "metadata": {},
   "outputs": [],
   "source": [
    "            time.sleep(interval - spacing - delay) # wait for the time interval to end\n",
    "            status = GetOrderStatusVerify(transID, currencyPair) # did we move volume?\n",
    "            if(status != 'FILLED'): # Ideally, yes. Realistically, no\n",
    "                myFile = open(recordFile, 'a')\n",
    "                with myFile:\n",
    "                    myFile.write('Canceling Buying {}\\n'.format(FXcurrency))\n",
    "                print('Canceling Buying {}'.format(FXcurrency))\n",
    "                CancelVerify(transID, currencyPair) # cancel the order\n",
    "\n",
    "                amountBought = GetOrderExecutedVerify(transID, currencyPair) # check how much we bought\n",
    "                if(amountBought >= 0.75*Balance): # more than 75% quantity fulfilled?\n",
    "                    sellBalance = amountBought\n",
    "                    flag = 'Sell' # make peace with it and move on\n",
    "                    append = True # append is set to True meaning we will record the next transactions\n",
    "                else:\n",
    "                    if(flag == 'Buy'): # or else you're going to have to buy more\n",
    "                        sellBalance = amountBought # but we also have to keep track of how much we're going to sell\n",
    "                    else:\n",
    "                        sellBalance += amountBought\n",
    "                    flag = 'cancelBuy'\n",
    "                    append = False # append is set to False because we could not fulfill the order, so the price must have moved up and is less optimal, so we will overwrite the previously recorded value with the new higher and undesirable price in order to make profit calculations conservative\n",
    "            else: # ideally though we just come out here everytime \n",
    "                sellBalance = Balance\n",
    "                flag = 'Sell'\n",
    "                append = True"
   ]
  },
  {
   "cell_type": "markdown",
   "metadata": {},
   "source": [
    "#### Cancelling a Buy Order - Alternative (Not HFT)\n",
    "The code above is unique to this strategy because we want to buy at very specific point at an even more specific price and then sell minutes later. For this reason if we do not fulfill our order the code reroutes itself through the buy loop again ensuring that the buy condition is triggered again.  \n",
    "\n",
    "In other more slow trading codes, positions will be held for 6-24 hours, sometimes even longer. In these cases the margins on buying and selling or not as important since the code is trying to capture gains or larger price movments. Therefore the cancel loop is written so that once the buy trigger is met we will continue to put out buy orders until the volume is fulfilled even if we encounter price slippage. To combat priced slippage though, the time interval is then adjusted.  \n",
    "\n",
    "Reading throuh the code and comments is the best way to follow how it works. This would follow the code in the Buying Section."
   ]
  },
  {
   "cell_type": "code",
   "execution_count": 17,
   "metadata": {},
   "outputs": [],
   "source": [
    "            flag = 'Sell' # not this cancel loop begins by assuming we have fulfilled the order\n",
    "\n",
    "            time.sleep(interval - spacing - delay) # wait for the time interval to end\n",
    "            status = GetOrderStatusVerify(transID, currencyPair) # did we move volume?\n",
    "            if(status != 'FILLED'): # if FILLED all is well and move on\n",
    "                myFile = open(recordFile, 'a')\n",
    "                with myFile:\n",
    "                    myFile.write('Canceling Buying {}\\n'.format(FXcurrency))\n",
    "                print('Canceling Buying {}'.format(FXcurrency))\n",
    "                CancelVerify(transID, currencyPair) # if not cancel the order\n",
    "                flag = 'cancelBuy' # switch the status to cancelBuy\n",
    "                amountBought = GetOrderExecutedVerify(transID, currencyPair)\n",
    "                cancelBalance = Balance - amountBought # calculate how much more we have to buy\n",
    "                interval = interval/5 # divide the interval by 5 so that we go through the next loop faster and can issue our next order quickly\n",
    "\n",
    "\n",
    "        elif(flag == 'cancelBuy'): # the new elif statement only requires the flag be cancelBuy, our buy trigger is most likely no longer met, but we want to make sure we lock in our position regardless as price slippage in not that important here\n",
    "            myFile = open(recordFile, 'a')\n",
    "            with myFile:\n",
    "                myFile.write('Buying {} after a cancel\\n'.format(FXcurrency))\n",
    "            print('Buying {} after a cancel'.format(FXcurrency))\n",
    "\n",
    "            interval = interval*5 # restore the interval\n",
    "\n",
    "            buyPrice = Bid2 + spreadFactor*(Ask2 - Bid2)\n",
    "            transactionList.pop()\n",
    "            transactionList.append(-buyPrice) # Obviously the price has moved up from where we placed or order, otherwise our order would have completed. So in the transaction list we overwrite the buy price with the new higher one so that our profit calculations are conservative using the higher values\n",
    "\n",
    "            transID = BuyOrderVerify(cancelBalance, buyPrice, BalanceRound, priceRound, currencyPair)\n",
    "\n",
    "            flag = 'Sell' # assume we fulfilled the order\n",
    "\n",
    "            time.sleep(interval - spacing - delay)\n",
    "            status = GetOrderStatusVerify(transID, currencyPair)\n",
    "            if(status != 'FILLED'): \n",
    "                myFile = open(recordFile, 'a')\n",
    "                with myFile:\n",
    "                    myFile.write('Canceling Buying {}\\n'.format(FXcurrency))\n",
    "                print('Canceling Buying {}'.format(FXcurrency))\n",
    "                CancelVerify(transID, currencyPair) # if not cancel the order, change the flag, adjust the interval, and the next iteration will come through here again until we obtain the quantity we desire\n",
    "                flag = 'cancelBuy'\n",
    "                amountBought = GetOrderExecutedVerify(transID, currencyPair)\n",
    "                cancelBalance = cancelBalance - amountBought\n",
    "                interval = interval/5"
   ]
  },
  {
   "cell_type": "markdown",
   "metadata": {},
   "source": [
    "### Selling\n",
    "Here we go through the elif sell loop. It ressembles the buy loop, except many things are simply reversed. One key point is that there is far more performance/data logging in this loop as here we liquidated everything back to our base currency and can check our P/L.  \n",
    "\n",
    "For simplicity the sell cancel loops are omitted. They can easily be derived from the buy cancel loops if you would like to incorporate them into your own code."
   ]
  },
  {
   "cell_type": "code",
   "execution_count": 18,
   "metadata": {},
   "outputs": [],
   "source": [
    "        elif((margin >= 0) and (flag == 'Sell')):\n",
    "            myFile = open(recordFile, 'a')\n",
    "            with myFile:\n",
    "                myFile.write('Selling {}\\n'.format(FXcurrency))\n",
    "            print('Selling {}'.format(FXcurrency))\n",
    "\n",
    "            sellPrice = Ask2 - spreadFactor*(Ask2 - Bid2)\n",
    "\n",
    "            if(append == True):\n",
    "                transactionList.append(sellPrice)\n",
    "                commissionList.append(1 - commission/100)\n",
    "            else:\n",
    "                transactionList.pop()\n",
    "                transactionList.append(sellPrice)\n",
    "\n",
    "            transID = SellOrderVerify(Balance, sellPrice, BalanceRound, priceRound, currencyPair)\n",
    "\n",
    "            profit = sum(transactionList*np.transpose(commissionList))*originalBalance # calculate profit on base currency accounting for transaction costs\n",
    "            profit = round(profit, 5)\n",
    "            USD_conversion = USD_PriceVerify(USD_conversion, baseCurrency)\n",
    "            USDprofit = round(profit*USD_conversion, 2)\n",
    "\n",
    "            if(buyPrice >= sellPrice): # this is obviously bad\n",
    "                losing_trades += 1 \n",
    "            if(buyPrice >= sellPrice or profit <= 0):\n",
    "                strikes += 1 # so we penalize it\n",
    "                if(strikes == 3): # 3 strikes and you're out! just like baseball... jk, please don't use 3, find your own risk threshold\n",
    "                    myFile = open(recordFile, 'a')\n",
    "                    with myFile:\n",
    "                        myFile.write('Code lost money 3 times in a row\\n')\n",
    "                    print('Code lost money 3 times in a row')\n",
    "                    termination = 1 # so we stop trading\n",
    "            else:\n",
    "                strikes = 0 # if we make a winning trade we reset the strikes\n",
    "\n",
    "            total_trades += 1 # keep track of number of trades\n",
    "\n",
    "            winPct = round((1 - losing_trades/total_trades)*100, 2) # percentage of trades that made money\n",
    "            compounded = (Balance/Last)*(sellPrice*(1 - commission/100) - buyPrice*(1 + commission/100)) # calculate the amount to compounded (can be negative if trades are losing money)\n",
    "            returnPct = round(Balance/originalBalance - 1, 2) # percentage return (relative to base currency)\n",
    "            days_live = round(timer*interval/3600/24, 1) # how long has the code been running live\n",
    "\n",
    "            if(total_trades%5 == 0): # every 5 trades send an email update \n",
    "                msg = MIMEText('Transaction list = {}\\nTotal trades = {}\\nWinning trade percentage = {}%\\nProfit = {} {}\\nProfit ~= $ {}\\nReturn = {}%\\nRunning live for {} days'.format(transactionList, total_trades, winPct, profit, baseCurrency, USDprofit, returnPct, days_live))\n",
    "                # the message includes the transaction list, number of total total trades, winning trade percentage, profit in base currency, profit in USD, return percentage relative to base currency, and days_live\n",
    "                if(profit > 0): # fun little if statement to add the important details to the email subject line\n",
    "                    msg['Subject'] = 'PRACTICE Spread Abuser {}-{} Code - Good News'.format(baseCurrency, FXcurrency)\n",
    "                else:\n",
    "                    msg['Subject'] = 'PRACTICE Spread Abuser {}-{} Code - Bad News'.format(baseCurrency, FXcurrency)\n",
    "\n",
    "                EmailUpdate(recipients, msg) # send it\n",
    "\n",
    "            myFile = open(recordFile, 'a') # record all of this in the terminal and in the recordFile\n",
    "            with myFile: # can't stress enough the value of having this everywhere - the goal should be to never have to manually log into Binance ever again to check the status of your account\n",
    "                myFile.write('Quantity @ Price\\n')\n",
    "                myFile.write('{} @ {}\\n'.format(Balance, sellPrice))\n",
    "                myFile.write('Transaction List = {}\\n'.format(transactionList))\n",
    "                myFile.write('Total trades = {}\\n'.format(total_trades))\n",
    "                myFile.write('Winning trade percentage = {}%\\n'.format(winPct))\n",
    "                myFile.write('Profit = {} {}\\n'.format(profit, baseCurrency))\n",
    "                myFile.write('Profit ~= $ {}\\n'.format(USDprofit))\n",
    "                myFile.write('Return = {}%\\n'.format(returnPct))\n",
    "            print('Quantity @ Price')\n",
    "            print('{} @ {}'.format(Balance, sellPrice))\n",
    "            print('Transaction List = {}'.format(transactionList))\n",
    "            print('Total trades = {}'.format(total_trades))\n",
    "            print('Winning trade percentage = {}%'.format(winPct))\n",
    "            print('Profit = {} {}'.format(profit, baseCurrency))\n",
    "            print('Profit ~= $ {}'.format(USDprofit))\n",
    "            print('Return = {}%'.format(returnPct))\n",
    "\n",
    "            flag = 'Buy'\n",
    "\n",
    "            time.sleep(interval - spacing - delay)"
   ]
  },
  {
   "cell_type": "markdown",
   "metadata": {},
   "source": [
    "### Else\n",
    "Most of the time, with the exception of HFT strategies, the code does not trigger a buy or sell. Thus it comes through the final else statement, which is where the code spends the large amjority of it's runtime."
   ]
  },
  {
   "cell_type": "code",
   "execution_count": 19,
   "metadata": {},
   "outputs": [],
   "source": [
    "        else:\n",
    "            time.sleep(interval - spacing - delay)"
   ]
  },
  {
   "cell_type": "markdown",
   "metadata": {},
   "source": [
    "### Termination\n",
    "Unfortunately, sometimes the strategy loses money and termination is triggered. The if statement also includes that the flag is not cancelSell as this ensure that when the code stops running all funds are in the base currency. Otherwise the code may stop running even though an order is not fulfilled and you will have to resolve it manually on the exchange. Finally, the code breaks out of the trading loop."
   ]
  },
  {
   "cell_type": "code",
   "execution_count": 20,
   "metadata": {},
   "outputs": [],
   "source": [
    "        if(termination == 1 and flag != 'cancelSell'):\n",
    "            myFile = open(recordFile, 'a')\n",
    "            with myFile:\n",
    "                myFile.write('Breaking out of trading loop\\n')\n",
    "            print('Breaking out of trading loop')\n",
    "\n",
    "            msg = MIMEText('The Spread Abuser {}-{} Code lost money and stopped trading\\nTransaction list = {}\\nTotal trades = {}\\nWinning trade percentage = {}%\\nProfit = {} {}\\nProfit ~= $ {}\\nReturn = {}%'.format(baseCurrency, FXcurrency, transactionList, total_trades, winPct, profit, baseCurrency, USDprofit, returnPct))\n",
    "            msg['Subject'] = 'Spread Abuser {}-{} Code - Losing Money'.format(baseCurrency, FXcurrency)\n",
    "\n",
    "            EmailUpdate(recipients, msg)\n",
    "            break"
   ]
  },
  {
   "cell_type": "markdown",
   "metadata": {},
   "source": [
    "### Instructions\n",
    "Sometimes you make improvements to a strategy and want to update the live code. Other times human intuition or knowledge of external factors, things the code won't consider, make you decide to take down a code before a coming market downturn. You could log into AWS and hit control C, but a more elagant and versatile way is to read from the instructions file.  \n",
    "\n",
    "This has the same feature as the termination whereby even if the instructions are to stop running the code waits until all funds are back in the base currency. Elif statements can easily be added for other conditions. For example this strategy's most influential input is the commission rate, but for strategies that take many hyperparameters these could be manually adjusted and then fed into the live code to be updated here."
   ]
  },
  {
   "cell_type": "code",
   "execution_count": 21,
   "metadata": {},
   "outputs": [],
   "source": [
    "        try:\n",
    "            instructions = open(instructionsFile, 'r')\n",
    "            instructions = instructions.read()\n",
    "            if(instructions == 'stop' and flag == 'Buy'):\n",
    "                msg = MIMEText('The code was taken down for maintenance\\n\\nTotal Runtime Performance\\n\\nTransaction list = {}\\nTotal trades = {}\\nWinning trade percentage = {}%\\nProfit = {} {}\\nProfit ~= $ {}\\nReturn = {}%\\nRan live for {} days'.format(transactionList, total_trades, winPct, profit, baseCurrency, USDprofit, returnPct, days_live))\n",
    "                msg['Subject'] = 'Spread Abuser {}-{} Code - Maintenance'.format(baseCurrency, FXcurrency)\n",
    "\n",
    "                EmailUpdate(recipients, msg)\n",
    "\n",
    "                myFile = open(recordFile, 'a')\n",
    "                with myFile:\n",
    "                    myFile.write('The code was taken down for maintenance\\n')\n",
    "                print('The code was taken down for maintenance')\n",
    "                break\n",
    "        except:\n",
    "            pass"
   ]
  },
  {
   "cell_type": "markdown",
   "metadata": {},
   "source": [
    "### Parameter Resets\n",
    "While manual parameter overwriting via txt instruction file could easily be incorporated into the above code, we normally build this feature directly into the strategy. Most of our successful strategies (which will never see the light of day on GitHub) take several key parameter inputs. We rigorously backtest and optimize to find these and hard code them into our strategies. There are times though where it is more favorable to let the code auto update them.  \n",
    "\n",
    "In this case a variable called reset and a function called Parameter_Chooser would be previously defined. Imagine reset is equal to a weeks worth of data points, then the code will update twice a week (every 3.5 days) using a weeks worth of data to backtest. This will give a variable named updatedParameters, which will give has a lot of information in addition to the parameters, such as return, return percentage, number of trades, and winning trade percentage. From this we select the parameters as a variable named chosenParameters, which would overwrite chosenParameters defined in the Settings. Both are printed and recorded so that we can see the parameters as well as their performance in backtesting."
   ]
  },
  {
   "cell_type": "code",
   "execution_count": 22,
   "metadata": {},
   "outputs": [],
   "source": [
    "        if(((timer%reset == reset/2) and (timer >= reset)) or (timer%reset == 0)):\n",
    "            backtestData = data.loc[len(data)-reset:len(data), :] # written for a pd.DataFrame\n",
    "\n",
    "            updatedParameters = Parameter_Chooser(a, b, c, d, e, f, commission, h, backtestData)\n",
    "            chosenParameters = updatedParameters[1:5]\n",
    "            myFile = open(recordFile, 'a')\n",
    "            with myFile\n",
    "                myFile.write('Updated Parameters\\n')\n",
    "                myFile.write(str(updatedParameters)+'\\n')\n",
    "                myFile.write(str(chosenParameters)+'\\n')\n",
    "            print('Updated Parameters')\n",
    "            print(updatedParameters)\n",
    "            print(chosenParameters)"
   ]
  },
  {
   "cell_type": "markdown",
   "metadata": {},
   "source": [
    "### Clearing Memory\n",
    "Fortunately this strategy only needs to store one data point at a time. Most other strategies need to store much larger amounts of data and if many codes (sometimes we run two different strategies over several currency pairs all simultaneously) are running at once this could begin to use up AWS memory. Most actual strategies we use tend to require about 50-250 data points at a time and perhaps several thousand if auto updating is included. Ever so often we trim the data to make sure DataFrames, Series, and arrays don't grow indefinitely. Below is sample code for this feature."
   ]
  },
  {
   "cell_type": "code",
   "execution_count": 23,
   "metadata": {},
   "outputs": [],
   "source": [
    "        if(len(data) >= 10000):\n",
    "                data = data.loc[len(data)-10000:len(data), :] # written for a pd.DataFrame"
   ]
  },
  {
   "cell_type": "markdown",
   "metadata": {},
   "source": [
    "### Increment\n",
    "Increment the timer and record it"
   ]
  },
  {
   "cell_type": "code",
   "execution_count": 24,
   "metadata": {},
   "outputs": [],
   "source": [
    "        timer += 1\n",
    "            myFile = open(recordFile, 'a')\n",
    "            with myFile:\n",
    "                myFile.write('{}\\n'.format(timer))\n",
    "            print(timer)"
   ]
  },
  {
   "cell_type": "markdown",
   "metadata": {},
   "source": [
    "### Errors\n",
    "Lastly is the final except in case of an error. The code can error in the start up when the user hits Enter, but this would be caught immediately. Errors that happen while trading are very important to be notified of because it is too cumbersome to manually check record files or consoles directly.  \n",
    "\n",
    "Since cryptocurrency markets are 24/7 it is also useful to get a brief performance log in this email. This way if we receive this email on a Friday night and see that the profit is positive and flag is Buy we know it's not urgent, wheras profit is negative and flag is Sell would be higher priority. "
   ]
  },
  {
   "cell_type": "code",
   "execution_count": 25,
   "metadata": {},
   "outputs": [],
   "source": [
    "except:\n",
    "\ttraceback.print_exc()\n",
    "\n",
    "\tdays_live = round(timer*interval/3600/24, 1)\n",
    "\n",
    "\tmsg = MIMEText('The {}-{} Code errored out and needs to be checked\\n\\nThe current profit is {}\\n\\nThe current position is {}\\n\\nRan live for {} days'.format(baseCurrency, FXcurrency, profit, flag, days_live))\n",
    "\tmsg['Subject'] = 'RSI {}-{} Code - Error'.format(baseCurrency, FXcurrency)\n",
    "\n",
    "\tEmailUpdate(recipients, msg)"
   ]
  }
 ],
 "metadata": {
  "kernelspec": {
   "display_name": "Python 3",
   "language": "python",
   "name": "python3"
  },
  "language_info": {
   "codemirror_mode": {
    "name": "ipython",
    "version": 3
   },
   "file_extension": ".py",
   "mimetype": "text/x-python",
   "name": "python",
   "nbconvert_exporter": "python",
   "pygments_lexer": "ipython3",
   "version": "3.6.3"
  }
 },
 "nbformat": 4,
 "nbformat_minor": 2
}
